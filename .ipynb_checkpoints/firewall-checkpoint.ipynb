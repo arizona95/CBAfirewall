{
 "cells": [
  {
   "cell_type": "markdown",
   "id": "81816a11",
   "metadata": {},
   "source": [
    "# Firewall based on weighted-CBA(classification based on associations)"
   ]
  },
  {
   "cell_type": "code",
   "execution_count": 1,
   "id": "2018e1be",
   "metadata": {},
   "outputs": [],
   "source": [
    "%load_ext autoreload\n",
    "%autoreload 2\n",
    "%matplotlib inline\n",
    "import numpy as np\n",
    "import pandas as pd\n",
    "from apyori import apriori\n",
    "from mlxtend.frequent_patterns import fpgrowth\n",
    "from mlxtend.preprocessing import TransactionEncoder\n",
    "from pyarc_mdf import CBA, TransactionDB\n",
    "import time\n",
    "import fim\n",
    "import matplotlib.pyplot as plt\n",
    "import warnings\n",
    "from ipywidgets import IntProgress\n",
    "from IPython.display import display\n",
    "warnings.filterwarnings(action='ignore') "
   ]
  },
  {
   "cell_type": "markdown",
   "id": "3c77b274",
   "metadata": {},
   "source": [
    "contribution \n",
    "1. association rule generation algorithm(apropri, fp_growth 등) 알고리즘 속도 비교\n",
    "2. classification algorithm modify : weighted on  \"deny\" data association rules CBA (weighted CBA)\n",
    "3. cba(classification based on association rules) algorithm compare : m1/m2"
   ]
  },
  {
   "cell_type": "markdown",
   "id": "8ea95a56",
   "metadata": {},
   "source": [
    "# 1. parsing data"
   ]
  },
  {
   "cell_type": "markdown",
   "id": "bb4e35fd",
   "metadata": {},
   "source": [
    "pre-processing by human based feuture select & labeling"
   ]
  },
  {
   "cell_type": "code",
   "execution_count": 11,
   "id": "36d04cf2",
   "metadata": {},
   "outputs": [],
   "source": [
    "def parse_file() :\n",
    "    log_data = pd.read_csv('data/data.csv')\n",
    "    log_data = log_data.reindex([\n",
    "        'Source Port', \n",
    "        'Destination Port', \n",
    "        'Bytes Sent', \n",
    "        'Bytes Received',\n",
    "        'pkts_sent',\n",
    "        'pkts_received',\n",
    "        'Action'], axis=1)\n",
    "    #for feature in log_data:  log_data[feature] = feature +\"@\"+log_data[feature].astype(str)\n",
    "    return log_data\n",
    "    \n",
    "log_data =parse_file()"
   ]
  },
  {
   "cell_type": "markdown",
   "id": "173eb4f6",
   "metadata": {},
   "source": [
    "# 2. data loader"
   ]
  },
  {
   "cell_type": "code",
   "execution_count": 12,
   "id": "023b09a8",
   "metadata": {},
   "outputs": [],
   "source": [
    "class DataLoader() :\n",
    "    \"\"\"\n",
    "    data loader from data\n",
    "    \"\"\"\n",
    "    \n",
    "    def __init__(self, log_data):\n",
    "        self.log_data = log_data\n",
    "        \n",
    "    def random_shuffle(self) :\n",
    "        self.log_data = self.log_data.sample(frac=1).reset_index(drop=True)\n",
    "        \n",
    "    def get_data(self, start_rate, data_rate) :\n",
    "        \"\"\"\n",
    "        Parameters\n",
    "        ----------\n",
    "        start_rate : float\n",
    "            if you want get [40%:55%] data, set 0.4 this parameter\n",
    "            \n",
    "        data_rate : float\n",
    "            if you want get [40%:55%] data, set 0.55-0.4= 0.15 this parameter\n",
    "        \"\"\"\n",
    "        start_index = int(len(self.log_data)*start_rate)\n",
    "        data_index = int(len(self.log_data)*data_rate)\n",
    "        return self.log_data.loc[start_index:start_index+data_index]\n",
    "        \n",
    "dataloader = DataLoader(log_data)\n",
    "dataloader.random_shuffle()"
   ]
  },
  {
   "cell_type": "code",
   "execution_count": 13,
   "id": "2e83bc4b",
   "metadata": {},
   "outputs": [
    {
     "data": {
      "text/html": [
       "<div>\n",
       "<style scoped>\n",
       "    .dataframe tbody tr th:only-of-type {\n",
       "        vertical-align: middle;\n",
       "    }\n",
       "\n",
       "    .dataframe tbody tr th {\n",
       "        vertical-align: top;\n",
       "    }\n",
       "\n",
       "    .dataframe thead th {\n",
       "        text-align: right;\n",
       "    }\n",
       "</style>\n",
       "<table border=\"1\" class=\"dataframe\">\n",
       "  <thead>\n",
       "    <tr style=\"text-align: right;\">\n",
       "      <th></th>\n",
       "      <th>Source Port</th>\n",
       "      <th>Destination Port</th>\n",
       "      <th>Bytes Sent</th>\n",
       "      <th>Bytes Received</th>\n",
       "      <th>pkts_sent</th>\n",
       "      <th>pkts_received</th>\n",
       "      <th>Action</th>\n",
       "    </tr>\n",
       "  </thead>\n",
       "  <tbody>\n",
       "    <tr>\n",
       "      <th>32766</th>\n",
       "      <td>55072</td>\n",
       "      <td>53</td>\n",
       "      <td>86</td>\n",
       "      <td>82</td>\n",
       "      <td>1</td>\n",
       "      <td>1</td>\n",
       "      <td>allow</td>\n",
       "    </tr>\n",
       "    <tr>\n",
       "      <th>32767</th>\n",
       "      <td>32554</td>\n",
       "      <td>34729</td>\n",
       "      <td>62</td>\n",
       "      <td>0</td>\n",
       "      <td>1</td>\n",
       "      <td>0</td>\n",
       "      <td>deny</td>\n",
       "    </tr>\n",
       "    <tr>\n",
       "      <th>32768</th>\n",
       "      <td>56627</td>\n",
       "      <td>445</td>\n",
       "      <td>70</td>\n",
       "      <td>0</td>\n",
       "      <td>1</td>\n",
       "      <td>0</td>\n",
       "      <td>drop</td>\n",
       "    </tr>\n",
       "    <tr>\n",
       "      <th>32769</th>\n",
       "      <td>42665</td>\n",
       "      <td>80</td>\n",
       "      <td>2046</td>\n",
       "      <td>5605</td>\n",
       "      <td>10</td>\n",
       "      <td>6</td>\n",
       "      <td>allow</td>\n",
       "    </tr>\n",
       "  </tbody>\n",
       "</table>\n",
       "</div>"
      ],
      "text/plain": [
       "       Source Port  Destination Port  Bytes Sent  Bytes Received  pkts_sent  \\\n",
       "32766        55072                53          86              82          1   \n",
       "32767        32554             34729          62               0          1   \n",
       "32768        56627               445          70               0          1   \n",
       "32769        42665                80        2046            5605         10   \n",
       "\n",
       "       pkts_received Action  \n",
       "32766              1  allow  \n",
       "32767              0   deny  \n",
       "32768              0   drop  \n",
       "32769              6  allow  "
      ]
     },
     "execution_count": 13,
     "metadata": {},
     "output_type": "execute_result"
    }
   ],
   "source": [
    "dataloader.get_data(0.5, 0.00005)"
   ]
  },
  {
   "cell_type": "markdown",
   "id": "fb260fd0",
   "metadata": {},
   "source": [
    "# 3. classification by association rules"
   ]
  },
  {
   "cell_type": "code",
   "execution_count": 55,
   "id": "e5190794",
   "metadata": {
    "scrolled": false
   },
   "outputs": [],
   "source": [
    "class Experiment() :\n",
    "    def __init__(self, dataloader) :\n",
    "        self.dataloader = dataloader\n",
    "    \n",
    "    def set_data(self, test_start_rate, test_data_rate) :\n",
    "        data_train = self.dataloader.get_data(0, test_start_rate)\n",
    "        data_test = self.dataloader.get_data(test_start_rate, test_data_rate)\n",
    "        data_train = pd.concat([ data_train, self.dataloader.get_data(test_start_rate+test_data_rate, 1)])\n",
    "        self.txns_train = TransactionDB.from_DataFrame(data_train)\n",
    "        self.txns_test = TransactionDB.from_DataFrame(data_test)\n",
    "        self.txns_deny_train =  TransactionDB.from_DataFrame(data_train[data_train[\"Action\"] != \"allow\"])\n",
    "    \n",
    "    def run(self, min_support, min_confidence, classification_algorithm, association_algorithm , top_rules_args = 0) :\n",
    "        \"\"\"Function for running CBA for finding the best n(top_rules_args)\n",
    "        rules from transaction list\n",
    "        \n",
    "        Parameters\n",
    "        ----------\n",
    "        min_support : float\n",
    "            set min support. if it setting 0.15 : association rule can make over 15% frequency.\n",
    "            \n",
    "        min_confidence: float\n",
    "            set min confidence.\n",
    "            \n",
    "        classification_algorithm : string\n",
    "            it can be 'm1', 'm2'\n",
    "            \n",
    "        association_algorithm : string\n",
    "            it can be 'apriori', 'arules', 'eclat', 'fpgrowth'\n",
    "        \n",
    "        top_rules_args : int\n",
    "            maximum assosiation rule number, if there is no rules, the whole rule num can be lower than args\n",
    "            \n",
    "        Returns\n",
    "        ----------\n",
    "        accuracy of experiment\n",
    "        during time for experiment\n",
    "        \"\"\"\n",
    "        start_time = time.time()\n",
    "        self.cba = CBA(support=min_support, \n",
    "                  confidence=min_confidence, \n",
    "                  classification_algorithm=classification_algorithm, \n",
    "                  association_algorithm=association_algorithm)\n",
    "        if classification_algorithm == \"m3\" : \n",
    "            self.cba.fit(self.txns_deny_train, top_rules_args)\n",
    "            self.deny_rules =self.cba.clf.rules\n",
    "        \n",
    "        self.cba.fit(self.txns_train, top_rules_args)\n",
    "        if classification_algorithm == \"m3\" :\n",
    "            self.cba.clf.add_rules(self.deny_rules)\n",
    "        accuracy = self.cba.rule_model_accuracy(self.txns_test) \n",
    "        end_time = time.time()\n",
    "        return accuracy , end_time-start_time\n",
    "    \n",
    "    def get_rules(self) :\n",
    "        return self.cba.clf.rules\n",
    "        \n",
    "\n",
    "experiment = Experiment(dataloader)\n",
    "experiment.set_data(0, 0.2)  # if training data is 0%~20% index\n",
    "#experiment.run(0.20, 0.5, \"m1\", \"apriori\", 200)  #min support = 0.20, min_confidence = 0.5, max_rume_num = 200"
   ]
  },
  {
   "cell_type": "code",
   "execution_count": 66,
   "id": "f475153b",
   "metadata": {},
   "outputs": [
    {
     "name": "stdout",
     "output_type": "stream",
     "text": [
      "here!\n"
     ]
    },
    {
     "data": {
      "text/plain": [
       "(0.857099259937438, 4.173999071121216)"
      ]
     },
     "execution_count": 66,
     "metadata": {},
     "output_type": "execute_result"
    }
   ],
   "source": [
    "experiment.run(0.1, 0.3, \"m3\", \"apriori\", 80)"
   ]
  },
  {
   "cell_type": "code",
   "execution_count": 67,
   "id": "ca047546",
   "metadata": {},
   "outputs": [
    {
     "data": {
      "text/plain": [
       "[CAR {Bytes Sent=66,Destination Port=445} => {Action=drop} sup: 0.15 conf: 1.00 len: 3, id: 4010,\n",
       " CAR {Bytes Sent=62} => {Action=deny} sup: 0.20 conf: 1.00 len: 2, id: 3957,\n",
       " CAR {Bytes Sent=70,Destination Port=445} => {Action=drop} sup: 0.31 conf: 1.00 len: 3, id: 3969,\n",
       " CAR {Destination Port=443} => {Action=allow} sup: 0.18 conf: 1.00 len: 2, id: 4079,\n",
       " CAR {Destination Port=445} => {Action=drop} sup: 0.20 conf: 1.00 len: 2, id: 4091]"
      ]
     },
     "execution_count": 67,
     "metadata": {},
     "output_type": "execute_result"
    }
   ],
   "source": [
    "experiment.cba.clf.rules"
   ]
  },
  {
   "cell_type": "code",
   "execution_count": 68,
   "id": "6e528df0",
   "metadata": {},
   "outputs": [
    {
     "data": {
      "text/plain": [
       "(0.7716487373159381, 2.8849997520446777)"
      ]
     },
     "execution_count": 68,
     "metadata": {},
     "output_type": "execute_result"
    }
   ],
   "source": [
    "experiment.run(0.1, 0.3, \"m1\", \"apriori\", 80)"
   ]
  },
  {
   "cell_type": "code",
   "execution_count": 69,
   "id": "117fea88",
   "metadata": {},
   "outputs": [
    {
     "data": {
      "text/plain": [
       "[CAR {Destination Port=443} => {Action=allow} sup: 0.18 conf: 1.00 len: 2, id: 4160,\n",
       " CAR {Destination Port=445} => {Action=drop} sup: 0.20 conf: 1.00 len: 2, id: 4172]"
      ]
     },
     "execution_count": 69,
     "metadata": {},
     "output_type": "execute_result"
    }
   ],
   "source": [
    "experiment.cba.clf.rules"
   ]
  },
  {
   "cell_type": "markdown",
   "id": "8f124ee7",
   "metadata": {},
   "source": [
    "# 4. experiment"
   ]
  },
  {
   "cell_type": "markdown",
   "id": "31598750",
   "metadata": {},
   "source": [
    "use cross validation -> 데이터를 5분할 후, 각 분할 하나를 test set, 나머지를 training set 으로 보고 실험을 총 5번하여 결과를 합산"
   ]
  },
  {
   "cell_type": "code",
   "execution_count": 70,
   "id": "c92c6754",
   "metadata": {},
   "outputs": [
    {
     "name": "stdout",
     "output_type": "stream",
     "text": [
      "total_epoch: 160\n"
     ]
    }
   ],
   "source": [
    "cross_validation_epoch = 5\n",
    "top_rule_max_num_list = [5,10,15,20] # 40,80,120,160,200\n",
    "minimum_support = 0.05 \n",
    "minimum_confidence = 0.3\n",
    "classification_algorithm_list = ['m1', 'm3'] # 'm1', 'm2'\n",
    "association_algorithm_list = ['apriori', 'arules', 'eclat', 'fpgrowth'] # 'apriori', 'arules', 'eclat', 'fpgrowth'\n",
    "full_loop_num = cross_validation_epoch * len(top_rule_max_num_list) * len(classification_algorithm_list) * len(association_algorithm_list)\n",
    "print(f\"total_epoch: {full_loop_num}\")"
   ]
  },
  {
   "cell_type": "code",
   "execution_count": null,
   "id": "ca3e2b82",
   "metadata": {},
   "outputs": [
    {
     "data": {
      "application/vnd.jupyter.widget-view+json": {
       "model_id": "2d946dbfefa04285a422d298a511e8aa",
       "version_major": 2,
       "version_minor": 0
      },
      "text/plain": [
       "IntProgress(value=0, max=160)"
      ]
     },
     "metadata": {},
     "output_type": "display_data"
    },
    {
     "name": "stdout",
     "output_type": "stream",
     "text": [
      "here!\n",
      "here!\n",
      "here!\n",
      "here!\n",
      "here!\n",
      "here!\n",
      "here!\n",
      "here!\n",
      "here!\n",
      "here!\n",
      "here!\n",
      "here!\n",
      "here!\n",
      "here!\n",
      "here!\n",
      "here!\n",
      "here!\n",
      "here!\n",
      "here!\n",
      "here!\n",
      "here!\n",
      "here!\n",
      "here!\n",
      "here!\n",
      "here!\n",
      "here!\n",
      "here!\n",
      "here!\n",
      "here!\n",
      "here!\n",
      "here!\n",
      "here!\n",
      "here!\n",
      "here!\n",
      "here!\n",
      "here!\n",
      "here!\n",
      "here!\n",
      "here!\n",
      "here!\n",
      "here!\n",
      "here!\n",
      "here!\n",
      "here!\n",
      "here!\n",
      "here!\n",
      "here!\n",
      "here!\n"
     ]
    }
   ],
   "source": [
    "result = dict()\n",
    "for classification_algorithm in classification_algorithm_list :\n",
    "    result[classification_algorithm] = dict()\n",
    "    for association_algorithm in association_algorithm_list :\n",
    "        result[classification_algorithm][association_algorithm] = dict()\n",
    "        result[classification_algorithm][association_algorithm][\"acc\"] = [0]*len(top_rule_max_num_list)\n",
    "        result[classification_algorithm][association_algorithm][\"time\"] = [0]*len(top_rule_max_num_list)\n",
    "\n",
    "pb = IntProgress(min=0, max=full_loop_num) # instantiate the bar\n",
    "display(pb) # display the bar\n",
    "\n",
    "for five_cross_validation in [(x/cross_validation_epoch,1/cross_validation_epoch) for x in range(cross_validation_epoch) ] :\n",
    "    experiment.set_data(*five_cross_validation)\n",
    "    for classification_algorithm in classification_algorithm_list :\n",
    "        for association_algorithm in association_algorithm_list :\n",
    "            for i, rule_max_num in enumerate(top_rule_max_num_list) :\n",
    "                acc, t = experiment.run(minimum_support, minimum_confidence, classification_algorithm, association_algorithm, rule_max_num)\n",
    "                result[classification_algorithm][association_algorithm][\"acc\"][i] += acc/cross_validation_epoch\n",
    "                result[classification_algorithm][association_algorithm][\"time\"][i] +=  t/cross_validation_epoch\n",
    "                pb.value += 1\n",
    "                \n",
    "pb.close()"
   ]
  },
  {
   "cell_type": "markdown",
   "id": "0e53ce09",
   "metadata": {},
   "source": [
    "# 5. visualize"
   ]
  },
  {
   "cell_type": "code",
   "execution_count": null,
   "id": "d7f38f90",
   "metadata": {},
   "outputs": [],
   "source": [
    "acc_dict = dict()\n",
    "time_dict = dict()\n",
    "\n",
    "for meth in result :\n",
    "    for algo in result[meth] :\n",
    "        label=f\"{meth}-{algo}\"\n",
    "        acc_dict[label] = dict()\n",
    "        time_dict[label] = dict()\n",
    "        for i, rume_num in enumerate(top_rule_max_num_list) :\n",
    "            acc_dict[label][rume_num] = result[meth][algo][\"acc\"][i]\n",
    "            time_dict[label][rume_num] = result[meth][algo][\"time\"][i]\n",
    "            \n",
    "acc_df = pd.DataFrame(acc_dict)\n",
    "time_df = pd.DataFrame(time_dict)\n",
    "\n",
    "def visualize(df1, t1,x1,y1, df2,t2,x2,y2) :\n",
    "    fig, ax=plt.subplots(2)\n",
    "    plt.tight_layout()\n",
    "    df1.plot(ax=ax[0], figsize=(10,10))\n",
    "    ax[0].set_title(t1, fontsize=20)\n",
    "    ax[0].set_xlabel(x1, fontsize=13)\n",
    "    ax[0].set_ylabel(y1, fontsize=13)\n",
    "\n",
    "    df2.plot(ax=ax[1], figsize=(10,10))\n",
    "    ax[1].set_title(t2, fontsize=20)\n",
    "    ax[1].set_xlabel(x2, fontsize=13)\n",
    "    ax[1].set_ylabel(y2, fontsize=13)"
   ]
  },
  {
   "cell_type": "code",
   "execution_count": null,
   "id": "9c1ebab1",
   "metadata": {},
   "outputs": [],
   "source": [
    "fig, ax=plt.subplots(2)\n",
    "plt.tight_layout()\n",
    "acc_df.plot(ax=ax[0], figsize=(10,10))\n",
    "ax[0].set_title('Accuracy', fontsize=20)\n",
    "ax[0].set_xlabel(\"rule_number\", fontsize=13)\n",
    "ax[0].set_ylabel(\"acc\", fontsize=13)\n",
    "\n",
    "time_df.plot(ax=ax[1], figsize=(10,10))\n",
    "ax[1].set_title('Time', fontsize=20)\n",
    "ax[1].set_xlabel(\"rule_number\", fontsize=13)\n",
    "ax[1].set_ylabel(\"sec\", fontsize=13)"
   ]
  },
  {
   "cell_type": "code",
   "execution_count": null,
   "id": "ecb0e68e",
   "metadata": {},
   "outputs": [],
   "source": [
    "fig, ax=plt.subplots(2)\n",
    "plt.tight_layout()\n",
    "acc_df[[ x  for x in list(acc_df.columns) if 'm1' in x]].plot(ax=ax[0], figsize=(10,10))\n",
    "ax[0].set_title('Accuracy - m1', fontsize=20)\n",
    "ax[0].set_xlabel(\"rule_number\", fontsize=13)\n",
    "ax[0].set_ylabel(\"acc\", fontsize=13)\n",
    "\n",
    "acc_df[[ x  for x in list(acc_df.columns) if 'm3' in x]].plot(ax=ax[1], figsize=(10,10))\n",
    "ax[1].set_title('Accuracy - m3', fontsize=20)\n",
    "ax[1].set_xlabel(\"rule_number\", fontsize=13)\n",
    "ax[1].set_ylabel(\"acc\", fontsize=13)"
   ]
  },
  {
   "cell_type": "code",
   "execution_count": null,
   "id": "1f921db5",
   "metadata": {},
   "outputs": [],
   "source": [
    "fig, ax=plt.subplots(2)\n",
    "plt.tight_layout()\n",
    "time_df[[ x  for x in list(time_df.columns) if 'm1' in x]].plot(ax=ax[0], figsize=(10,10))\n",
    "ax[0].set_title('Time - m1', fontsize=20)\n",
    "ax[0].set_xlabel(\"rule_number\", fontsize=13)\n",
    "ax[0].set_ylabel(\"sec\", fontsize=13)\n",
    "\n",
    "time_df[[ x  for x in list(time_df.columns) if 'm3' in x]].plot(ax=ax[1], figsize=(10,10))\n",
    "ax[1].set_title('Time - m3', fontsize=20)\n",
    "ax[1].set_xlabel(\"rule_number\", fontsize=13)\n",
    "ax[1].set_ylabel(\"sec\", fontsize=13)"
   ]
  },
  {
   "cell_type": "code",
   "execution_count": null,
   "id": "c52f4823",
   "metadata": {},
   "outputs": [],
   "source": []
  }
 ],
 "metadata": {
  "kernelspec": {
   "display_name": "Python 3",
   "language": "python",
   "name": "python3"
  },
  "language_info": {
   "codemirror_mode": {
    "name": "ipython",
    "version": 3
   },
   "file_extension": ".py",
   "mimetype": "text/x-python",
   "name": "python",
   "nbconvert_exporter": "python",
   "pygments_lexer": "ipython3",
   "version": "3.7.10"
  }
 },
 "nbformat": 4,
 "nbformat_minor": 5
}
